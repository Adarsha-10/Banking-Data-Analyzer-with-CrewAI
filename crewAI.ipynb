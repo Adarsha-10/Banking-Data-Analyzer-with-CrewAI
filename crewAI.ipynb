{
  "nbformat": 4,
  "nbformat_minor": 0,
  "metadata": {
    "colab": {
      "provenance": [],
      "gpuType": "T4"
    },
    "kernelspec": {
      "name": "python3",
      "display_name": "Python 3"
    },
    "language_info": {
      "name": "python"
    },
    "accelerator": "GPU"
  },
  "cells": [
    {
      "cell_type": "markdown",
      "source": [
        "## Agents"
      ],
      "metadata": {
        "id": "e0UaShPwLTIA"
      }
    },
    {
      "cell_type": "code",
      "execution_count": null,
      "metadata": {
        "colab": {
          "base_uri": "https://localhost:8080/"
        },
        "id": "dyYlkH8aGJgv",
        "outputId": "32052a7b-b946-4972-c855-dfcf8ac7d27c"
      },
      "outputs": [
        {
          "output_type": "stream",
          "name": "stdout",
          "text": [
            "Account Level Info:\n",
            "  customer_name  customer_id pr_number  income  age\n",
            "0         Alice            1     PR001   50000   30\n",
            "1           Bob            2     PR002   60000   40\n",
            "2       Charlie            3     PR003   70000   35\n",
            "3         David            4     PR004   80000   50\n",
            "\n",
            "Transaction Level Info:\n",
            "   ucic_id  customer_id     category  transaction_amount credit_debit\n",
            "0      101            1  electronics                 200        debit\n",
            "1      102            1  investments                1500       credit\n",
            "2      103            2  investments                2000       credit\n",
            "3      104            3    groceries                 300        debit\n",
            "4      105            4  investments                2500       credit\n",
            "5      106            4  electronics                 400        debit\n",
            "\n",
            "Investment Comparison with Peers:\n",
            "   customer_id  ucic_id  transaction_amount customer_name pr_number  income  \\\n",
            "0            1      102                1500         Alice     PR001   50000   \n",
            "1            2      103                2000           Bob     PR002   60000   \n",
            "2            4      105                2500         David     PR004   80000   \n",
            "\n",
            "   age  \n",
            "0   30  \n",
            "1   40  \n",
            "2   50  \n"
          ]
        }
      ],
      "source": [
        "import pandas as pd\n",
        "\n",
        "def generate_banking_data():\n",
        "    # Sample account-level data\n",
        "    account_data = {\n",
        "        'customer_name': ['Alice', 'Bob', 'Charlie', 'David'],\n",
        "        'customer_id': [1, 2, 3, 4],\n",
        "        'pr_number': ['PR001', 'PR002', 'PR003', 'PR004'],\n",
        "        'income': [50000, 60000, 70000, 80000],\n",
        "        'age': [30, 40, 35, 50]\n",
        "    }\n",
        "\n",
        "    # Sample transaction-level data\n",
        "    transaction_data = {\n",
        "        'ucic_id': [101, 102, 103, 104, 105, 106],\n",
        "        'customer_id': [1, 1, 2, 3, 4, 4],\n",
        "        'category': ['electronics', 'investments', 'investments', 'groceries', 'investments', 'electronics'],\n",
        "        'transaction_amount': [200, 1500, 2000, 300, 2500, 400],\n",
        "        'credit_debit': ['debit', 'credit', 'credit', 'debit', 'credit', 'debit']\n",
        "    }\n",
        "\n",
        "    # Create DataFrames\n",
        "    account_df = pd.DataFrame(account_data)\n",
        "    transaction_df = pd.DataFrame(transaction_data)\n",
        "\n",
        "    return account_df, transaction_df\n",
        "\n",
        "# Example usage\n",
        "account_df, transaction_df = generate_banking_data()\n",
        "print(\"Account Level Info:\")\n",
        "print(account_df)\n",
        "print(\"\\nTransaction Level Info:\")\n",
        "print(transaction_df)\n",
        "\n",
        "\n",
        "from crewai import Agent\n",
        "\n",
        "# Initialize CrewAI agent\n",
        "data_analyzer = Agent(\n",
        "    role='Banking Data Analyst',\n",
        "    goal='Analyze and compare investment data with peers',\n",
        "    verbose=True,\n",
        "    memory=True,\n",
        "    backstory='Expert in banking data analysis, focusing on customer transactions and peer comparisons.',\n",
        "    tools=[],  # Define any tools if necessary\n",
        "    allow_delegation=False\n",
        ")\n",
        "\n",
        "def analyze_investments(account_df, transaction_df):\n",
        "    # Filter for investment transactions\n",
        "    investment_transactions = transaction_df[transaction_df['category'] == 'investments']\n",
        "\n",
        "    # Calculate total investments per customer\n",
        "    investment_summary = investment_transactions.groupby('customer_id').sum(numeric_only=True)\n",
        "\n",
        "    # Merge with account info for peer comparison\n",
        "    investment_comparison = investment_summary.merge(account_df, on='customer_id', how='left')\n",
        "\n",
        "    return investment_comparison\n",
        "\n",
        "# Example usage of analysis\n",
        "investment_comparison = analyze_investments(account_df, transaction_df)\n",
        "print(\"\\nInvestment Comparison with Peers:\")\n",
        "print(investment_comparison)"
      ]
    },
    {
      "cell_type": "code",
      "source": [
        "from crewai_tools import CustomInvestmentAnalysisTool\n",
        "\n",
        "# Initialize the tool for analyzing investment patterns\n",
        "investment_tool = CustomInvestmentAnalysisTool(\n",
        "    description='Tool for analyzing customer investments and comparing with market trends',\n",
        "    data_source='Customer Transaction Data'  # Customize this as per your data source or requirement\n",
        ")\n",
        "\n",
        "# Pass the tool to the agent\n",
        "data_analyzer = Agent(\n",
        "    role='Banking Data Analyst',\n",
        "    goal='Analyze and compare investment data with peers',\n",
        "    verbose=True,\n",
        "    memory=True,\n",
        "    backstory='Expert in banking data analysis, focusing on customer transactions and peer comparisons.',\n",
        "    tools=[investment_tool],  # Add the custom tool here\n",
        "    allow_delegation=False\n",
        ")\n"
      ],
      "metadata": {
        "colab": {
          "base_uri": "https://localhost:8080/",
          "height": 384
        },
        "id": "svulvSAwLNYd",
        "outputId": "6fcdeaed-6fb0-4e88-d9c1-2b975ca6e411"
      },
      "execution_count": null,
      "outputs": [
        {
          "output_type": "error",
          "ename": "ModuleNotFoundError",
          "evalue": "No module named 'crewai_tools'",
          "traceback": [
            "\u001b[0;31m---------------------------------------------------------------------------\u001b[0m",
            "\u001b[0;31mModuleNotFoundError\u001b[0m                       Traceback (most recent call last)",
            "\u001b[0;32m<ipython-input-10-59010f27e211>\u001b[0m in \u001b[0;36m<cell line: 1>\u001b[0;34m()\u001b[0m\n\u001b[0;32m----> 1\u001b[0;31m \u001b[0;32mfrom\u001b[0m \u001b[0mcrewai_tools\u001b[0m \u001b[0;32mimport\u001b[0m \u001b[0mCustomInvestmentAnalysisTool\u001b[0m  \u001b[0;31m# Hypothetical custom tool import\u001b[0m\u001b[0;34m\u001b[0m\u001b[0;34m\u001b[0m\u001b[0m\n\u001b[0m\u001b[1;32m      2\u001b[0m \u001b[0;34m\u001b[0m\u001b[0m\n\u001b[1;32m      3\u001b[0m \u001b[0;31m# Initialize the tool for analyzing investment patterns\u001b[0m\u001b[0;34m\u001b[0m\u001b[0;34m\u001b[0m\u001b[0m\n\u001b[1;32m      4\u001b[0m investment_tool = CustomInvestmentAnalysisTool(\n\u001b[1;32m      5\u001b[0m     \u001b[0mdescription\u001b[0m\u001b[0;34m=\u001b[0m\u001b[0;34m'Tool for analyzing customer investments and comparing with market trends'\u001b[0m\u001b[0;34m,\u001b[0m\u001b[0;34m\u001b[0m\u001b[0;34m\u001b[0m\u001b[0m\n",
            "\u001b[0;31mModuleNotFoundError\u001b[0m: No module named 'crewai_tools'",
            "",
            "\u001b[0;31m---------------------------------------------------------------------------\u001b[0;32m\nNOTE: If your import is failing due to a missing package, you can\nmanually install dependencies using either !pip or !apt.\n\nTo view examples of installing some common dependencies, click the\n\"Open Examples\" button below.\n\u001b[0;31m---------------------------------------------------------------------------\u001b[0m\n"
          ],
          "errorDetails": {
            "actions": [
              {
                "action": "open_url",
                "actionText": "Open Examples",
                "url": "/notebooks/snippets/importing_libraries.ipynb"
              }
            ]
          }
        }
      ]
    },
    {
      "cell_type": "markdown",
      "source": [
        "## Crew"
      ],
      "metadata": {
        "id": "gQ-89WMkLP50"
      }
    },
    {
      "cell_type": "code",
      "source": [
        "from crewai import Crew, Process\n",
        "from crewai import Agent  # Assuming Agent needs to be imported here\n",
        "\n",
        "# Define the banking data analyst agent\n",
        "data_analyzer = Agent(\n",
        "    role='Banking Data Analyst',\n",
        "    goal='Analyze and compare investment data with peers',\n",
        "    verbose=True,\n",
        "    memory=True,\n",
        "    backstory='Expert in banking data analysis, focusing on customer transactions and peer comparisons.',\n",
        "    tools=[],  # Define any tools if necessary\n",
        "    allow_delegation=False\n",
        ")\n",
        "\n",
        "# Define the task to analyze investments\n",
        "def analyze_investments_task(account_df, transaction_df):\n",
        "    def task(inputs):\n",
        "        return analyze_investments(account_df, transaction_df)\n",
        "    return task\n",
        "\n",
        "# Create the crew with the banking data analyst agent\n",
        "crew = Crew(\n",
        "    agents=[data_analyzer],\n",
        "    tasks=[analyze_investments_task],  # Updated task to analyze investments\n",
        "    process=Process.sequential,  # Optional: Sequential task execution is default\n",
        "    memory=True,\n",
        "    cache=True,\n",
        "    max_rpm=100,\n",
        "    share_crew=True\n",
        ")\n",
        "\n",
        "# Generate sample banking data\n",
        "account_df, transaction_df = generate_banking_data()\n",
        "\n",
        "# Start the task execution process\n",
        "result = crew.kickoff(inputs={'account_df': account_df, 'transaction_df': transaction_df})\n",
        "print(result)\n"
      ],
      "metadata": {
        "colab": {
          "base_uri": "https://localhost:8080/",
          "height": 391
        },
        "id": "l7s-nlJ3KRI1",
        "outputId": "47b80656-35f5-4635-aa24-020805e8ae9f"
      },
      "execution_count": null,
      "outputs": [
        {
          "output_type": "error",
          "ename": "AttributeError",
          "evalue": "'function' object has no attribute 'get'",
          "traceback": [
            "\u001b[0;31m---------------------------------------------------------------------------\u001b[0m",
            "\u001b[0;31mAttributeError\u001b[0m                            Traceback (most recent call last)",
            "\u001b[0;32m<ipython-input-9-9ee80d86a3dd>\u001b[0m in \u001b[0;36m<cell line: 22>\u001b[0;34m()\u001b[0m\n\u001b[1;32m     20\u001b[0m \u001b[0;34m\u001b[0m\u001b[0m\n\u001b[1;32m     21\u001b[0m \u001b[0;31m# Create the crew with the banking data analyst agent\u001b[0m\u001b[0;34m\u001b[0m\u001b[0;34m\u001b[0m\u001b[0m\n\u001b[0;32m---> 22\u001b[0;31m crew = Crew(\n\u001b[0m\u001b[1;32m     23\u001b[0m     \u001b[0magents\u001b[0m\u001b[0;34m=\u001b[0m\u001b[0;34m[\u001b[0m\u001b[0mdata_analyzer\u001b[0m\u001b[0;34m]\u001b[0m\u001b[0;34m,\u001b[0m\u001b[0;34m\u001b[0m\u001b[0;34m\u001b[0m\u001b[0m\n\u001b[1;32m     24\u001b[0m     \u001b[0mtasks\u001b[0m\u001b[0;34m=\u001b[0m\u001b[0;34m[\u001b[0m\u001b[0manalyze_investments_task\u001b[0m\u001b[0;34m]\u001b[0m\u001b[0;34m,\u001b[0m  \u001b[0;31m# Updated task to analyze investments\u001b[0m\u001b[0;34m\u001b[0m\u001b[0;34m\u001b[0m\u001b[0m\n",
            "    \u001b[0;31m[... skipping hidden 1 frame]\u001b[0m\n",
            "\u001b[0;32m/usr/local/lib/python3.10/dist-packages/crewai/task.py\u001b[0m in \u001b[0;36mprocess_model_config\u001b[0;34m(cls, values)\u001b[0m\n\u001b[1;32m    121\u001b[0m     \u001b[0;34m@\u001b[0m\u001b[0mclassmethod\u001b[0m\u001b[0;34m\u001b[0m\u001b[0;34m\u001b[0m\u001b[0m\n\u001b[1;32m    122\u001b[0m     \u001b[0;32mdef\u001b[0m \u001b[0mprocess_model_config\u001b[0m\u001b[0;34m(\u001b[0m\u001b[0mcls\u001b[0m\u001b[0;34m,\u001b[0m \u001b[0mvalues\u001b[0m\u001b[0;34m)\u001b[0m\u001b[0;34m:\u001b[0m\u001b[0;34m\u001b[0m\u001b[0;34m\u001b[0m\u001b[0m\n\u001b[0;32m--> 123\u001b[0;31m         \u001b[0;32mreturn\u001b[0m \u001b[0mprocess_config\u001b[0m\u001b[0;34m(\u001b[0m\u001b[0mvalues\u001b[0m\u001b[0;34m,\u001b[0m \u001b[0mcls\u001b[0m\u001b[0;34m)\u001b[0m\u001b[0;34m\u001b[0m\u001b[0;34m\u001b[0m\u001b[0m\n\u001b[0m\u001b[1;32m    124\u001b[0m \u001b[0;34m\u001b[0m\u001b[0m\n\u001b[1;32m    125\u001b[0m     \u001b[0;34m@\u001b[0m\u001b[0mmodel_validator\u001b[0m\u001b[0;34m(\u001b[0m\u001b[0mmode\u001b[0m\u001b[0;34m=\u001b[0m\u001b[0;34m\"after\"\u001b[0m\u001b[0;34m)\u001b[0m\u001b[0;34m\u001b[0m\u001b[0;34m\u001b[0m\u001b[0m\n",
            "\u001b[0;32m/usr/local/lib/python3.10/dist-packages/crewai/utilities/config.py\u001b[0m in \u001b[0;36mprocess_config\u001b[0;34m(values, model_class)\u001b[0m\n\u001b[1;32m     17\u001b[0m         \u001b[0mDict\u001b[0m\u001b[0;34m[\u001b[0m\u001b[0mstr\u001b[0m\u001b[0;34m,\u001b[0m \u001b[0mAny\u001b[0m\u001b[0;34m]\u001b[0m\u001b[0;34m:\u001b[0m \u001b[0mThe\u001b[0m \u001b[0mupdated\u001b[0m \u001b[0mvalues\u001b[0m \u001b[0mdictionary\u001b[0m\u001b[0;34m.\u001b[0m\u001b[0;34m\u001b[0m\u001b[0;34m\u001b[0m\u001b[0m\n\u001b[1;32m     18\u001b[0m     \"\"\"\n\u001b[0;32m---> 19\u001b[0;31m     \u001b[0mconfig\u001b[0m \u001b[0;34m=\u001b[0m \u001b[0mvalues\u001b[0m\u001b[0;34m.\u001b[0m\u001b[0mget\u001b[0m\u001b[0;34m(\u001b[0m\u001b[0;34m\"config\"\u001b[0m\u001b[0;34m,\u001b[0m \u001b[0;34m{\u001b[0m\u001b[0;34m}\u001b[0m\u001b[0;34m)\u001b[0m\u001b[0;34m\u001b[0m\u001b[0;34m\u001b[0m\u001b[0m\n\u001b[0m\u001b[1;32m     20\u001b[0m     \u001b[0;32mif\u001b[0m \u001b[0;32mnot\u001b[0m \u001b[0mconfig\u001b[0m\u001b[0;34m:\u001b[0m\u001b[0;34m\u001b[0m\u001b[0;34m\u001b[0m\u001b[0m\n\u001b[1;32m     21\u001b[0m         \u001b[0;32mreturn\u001b[0m \u001b[0mvalues\u001b[0m\u001b[0;34m\u001b[0m\u001b[0;34m\u001b[0m\u001b[0m\n",
            "\u001b[0;31mAttributeError\u001b[0m: 'function' object has no attribute 'get'"
          ]
        }
      ]
    },
    {
      "cell_type": "markdown",
      "source": [
        "##"
      ],
      "metadata": {
        "id": "Be9M30X5LXHB"
      }
    },
    {
      "cell_type": "code",
      "source": [],
      "metadata": {
        "id": "EMYHHVFHKR2p"
      },
      "execution_count": null,
      "outputs": []
    }
  ]
}