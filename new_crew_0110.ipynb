{
 "cells": [
  {
   "cell_type": "code",
   "execution_count": 1,
   "metadata": {},
   "outputs": [],
   "source": [
    "import pandas as pd\n",
    "from crewai import Agent, Task\n",
    "from transformers import pipeline\n",
    "\n"
   ]
  },
  {
   "cell_type": "code",
   "execution_count": 2,
   "metadata": {},
   "outputs": [
    {
     "name": "stderr",
     "output_type": "stream",
     "text": [
      "C:\\Users\\sudes\\AppData\\Roaming\\Python\\Python311\\site-packages\\transformers\\tokenization_utils_base.py:1601: FutureWarning: `clean_up_tokenization_spaces` was not set. It will be set to `True` by default. This behavior will be depracted in transformers v4.45, and will be then set to `False` by default. For more details check this issue: https://github.com/huggingface/transformers/issues/31884\n",
      "  warnings.warn(\n",
      "C:\\ProgramData\\anaconda3\\Lib\\site-packages\\paramiko\\pkey.py:82: CryptographyDeprecationWarning: TripleDES has been moved to cryptography.hazmat.decrepit.ciphers.algorithms.TripleDES and will be removed from this module in 48.0.0.\n",
      "  \"cipher\": algorithms.TripleDES,\n",
      "C:\\ProgramData\\anaconda3\\Lib\\site-packages\\paramiko\\transport.py:219: CryptographyDeprecationWarning: Blowfish has been moved to cryptography.hazmat.decrepit.ciphers.algorithms.Blowfish and will be removed from this module in 45.0.0.\n",
      "  \"class\": algorithms.Blowfish,\n",
      "C:\\ProgramData\\anaconda3\\Lib\\site-packages\\paramiko\\transport.py:243: CryptographyDeprecationWarning: TripleDES has been moved to cryptography.hazmat.decrepit.ciphers.algorithms.TripleDES and will be removed from this module in 48.0.0.\n",
      "  \"class\": algorithms.TripleDES,\n"
     ]
    }
   ],
   "source": [
    "# Load a Hugging Face model (generic Ollama-style model; replace with the actual model you're using)\n",
    "llm_model = pipeline(\"text-generation\", model=\"gpt2\")  # Replace with the correct model name\n",
    "\n",
    "# Define the Banking Data Analyst agent\n",
    "banking_analyst = Agent(\n",
    "    role='Banking Data Analyst',\n",
    "    goal='Analyze customer transactions and identify key investment patterns',\n",
    "    verbose=True,\n",
    "    memory=True,\n",
    "    backstory=\"An expert in banking and customer data, focused on extracting valuable insights from transactions.\",\n",
    "    tools=None,  # No tools, logic defined within the agent's LLM\n",
    "    allow_delegation=False,\n",
    "    llm=llm_model\n",
    ")\n",
    "\n"
   ]
  },
  {
   "cell_type": "code",
   "execution_count": 3,
   "metadata": {},
   "outputs": [],
   "source": [
    "# Define the Reporting Agent\n",
    "report_writer = Agent(\n",
    "    role='Report Writer',\n",
    "    goal='Summarize banking data analysis into a report for presentation',\n",
    "    verbose=True,\n",
    "    memory=True,\n",
    "    backstory=\"A data-driven writer skilled in transforming banking data into comprehensive reports.\",\n",
    "    tools=None,  # No tools, logic defined within the agent's LLM\n",
    "    allow_delegation=False,\n",
    "    llm=llm_model\n",
    ")\n",
    "\n"
   ]
  },
  {
   "cell_type": "code",
   "execution_count": 4,
   "metadata": {},
   "outputs": [],
   "source": [
    "# Sample banking data generation function (same as previous)\n",
    "def generate_banking_data():\n",
    "    # Sample account-level data\n",
    "    account_data = {\n",
    "        'customer_name': ['Alice', 'Bob', 'Charlie', 'David'],\n",
    "        'customer_id': [1, 2, 3, 4],\n",
    "        'pr_number': ['PR001', 'PR002', 'PR003', 'PR004'],\n",
    "        'income': [50000, 60000, 70000, 80000],\n",
    "        'age': [30, 40, 35, 50]\n",
    "    }\n",
    "\n",
    "    # Sample transaction-level data\n",
    "    transaction_data = {\n",
    "        'ucic_id': [101, 102, 103, 104, 105, 106],\n",
    "        'customer_id': [1, 1, 2, 3, 4, 4],\n",
    "        'category': ['electronics', 'investments', 'investments', 'groceries', 'investments', 'electronics'],\n",
    "        'transaction_amount': [200, 1500, 2000, 300, 2500, 400],\n",
    "        'credit_debit': ['debit', 'credit', 'credit', 'debit', 'credit', 'debit']\n",
    "    }\n",
    "\n",
    "    # Create DataFrames\n",
    "    account_df = pd.DataFrame(account_data)\n",
    "    transaction_df = pd.DataFrame(transaction_data)\n",
    "\n",
    "    return account_df, transaction_df\n",
    "\n",
    "\n",
    "\n"
   ]
  },
  {
   "cell_type": "code",
   "execution_count": 5,
   "metadata": {},
   "outputs": [],
   "source": [
    "# Task for banking data analysis\n",
    "def perform_banking_analysis(account_df, transaction_df):\n",
    "    analysis_task = Task(\n",
    "        description=\"Analyze customer transactions and identify key investment patterns.\",\n",
    "        expected_output=\"A detailed report summarizing key insights from banking data, focusing on investment transactions.\",\n",
    "        tools=None,  # No tools required\n",
    "        agent=banking_analyst\n",
    "    )\n",
    "\n",
    "    # Sample analysis logic to filter and summarize investment transactions\n",
    "    investment_transactions = transaction_df[transaction_df['category'] == 'investments']\n",
    "    investment_summary = investment_transactions.groupby('customer_id').sum(numeric_only=True)\n",
    "\n",
    "    # Generate a summary using the LLM pipeline\n",
    "    analysis_report = analysis_task.agent.llm(f\"Analyze the following investment transactions and provide insights:\\n{investment_summary.to_string()}\")[0]['generated_text']\n",
    "    \n",
    "    return analysis_report\n",
    "\n",
    "\n"
   ]
  },
  {
   "cell_type": "code",
   "execution_count": 6,
   "metadata": {},
   "outputs": [],
   "source": [
    "# Task for writing a report based on analysis\n",
    "def perform_report_writing(analysis_report):\n",
    "    write_task = Task(\n",
    "        description=\"Summarize the analysis into a comprehensive banking data report.\",\n",
    "        expected_output=\"A detailed report summarizing the key insights from the analysis of customer investment data.\",\n",
    "        tools=None,  # No tools required\n",
    "        agent=report_writer,\n",
    "        async_execution=False,\n",
    "        output_file='banking_data_report.md'  # Save the output to a markdown file\n",
    "    )\n",
    "\n",
    "    # Generate the report using the LLM pipeline\n",
    "    report_content = write_task.agent.llm(f\"Write a detailed report based on the following analysis:\\n{analysis_report}\")[0]['generated_text']\n",
    "\n",
    "    # Save the report to a file\n",
    "    with open(write_task.output_file, 'w') as file:\n",
    "        file.write(report_content)\n",
    "    \n",
    "    return report_content\n",
    "\n",
    "\n"
   ]
  },
  {
   "cell_type": "code",
   "execution_count": 7,
   "metadata": {},
   "outputs": [
    {
     "ename": "TypeError",
     "evalue": "'LLM' object is not callable",
     "output_type": "error",
     "traceback": [
      "\u001b[1;31m---------------------------------------------------------------------------\u001b[0m",
      "\u001b[1;31mTypeError\u001b[0m                                 Traceback (most recent call last)",
      "Cell \u001b[1;32mIn[7], line 3\u001b[0m\n\u001b[0;32m      1\u001b[0m \u001b[38;5;66;03m# Example usage\u001b[39;00m\n\u001b[0;32m      2\u001b[0m account_df, transaction_df \u001b[38;5;241m=\u001b[39m generate_banking_data()\n\u001b[1;32m----> 3\u001b[0m analysis_report \u001b[38;5;241m=\u001b[39m perform_banking_analysis(account_df, transaction_df)\n\u001b[0;32m      4\u001b[0m final_report \u001b[38;5;241m=\u001b[39m perform_report_writing(analysis_report)\n\u001b[0;32m      6\u001b[0m \u001b[38;5;28mprint\u001b[39m(\u001b[38;5;124m\"\u001b[39m\u001b[38;5;130;01m\\n\u001b[39;00m\u001b[38;5;124mBanking Data Analysis Report:\u001b[39m\u001b[38;5;124m\"\u001b[39m)\n",
      "Cell \u001b[1;32mIn[5], line 15\u001b[0m, in \u001b[0;36mperform_banking_analysis\u001b[1;34m(account_df, transaction_df)\u001b[0m\n\u001b[0;32m     12\u001b[0m investment_summary \u001b[38;5;241m=\u001b[39m investment_transactions\u001b[38;5;241m.\u001b[39mgroupby(\u001b[38;5;124m'\u001b[39m\u001b[38;5;124mcustomer_id\u001b[39m\u001b[38;5;124m'\u001b[39m)\u001b[38;5;241m.\u001b[39msum(numeric_only\u001b[38;5;241m=\u001b[39m\u001b[38;5;28;01mTrue\u001b[39;00m)\n\u001b[0;32m     14\u001b[0m \u001b[38;5;66;03m# Generate a summary using the LLM pipeline\u001b[39;00m\n\u001b[1;32m---> 15\u001b[0m analysis_report \u001b[38;5;241m=\u001b[39m analysis_task\u001b[38;5;241m.\u001b[39magent\u001b[38;5;241m.\u001b[39mllm(\u001b[38;5;124mf\u001b[39m\u001b[38;5;124m\"\u001b[39m\u001b[38;5;124mAnalyze the following investment transactions and provide insights:\u001b[39m\u001b[38;5;130;01m\\n\u001b[39;00m\u001b[38;5;132;01m{\u001b[39;00minvestment_summary\u001b[38;5;241m.\u001b[39mto_string()\u001b[38;5;132;01m}\u001b[39;00m\u001b[38;5;124m\"\u001b[39m)[\u001b[38;5;241m0\u001b[39m][\u001b[38;5;124m'\u001b[39m\u001b[38;5;124mgenerated_text\u001b[39m\u001b[38;5;124m'\u001b[39m]\n\u001b[0;32m     17\u001b[0m \u001b[38;5;28;01mreturn\u001b[39;00m analysis_report\n",
      "\u001b[1;31mTypeError\u001b[0m: 'LLM' object is not callable"
     ]
    }
   ],
   "source": [
    "# Example usage\n",
    "account_df, transaction_df = generate_banking_data()\n",
    "analysis_report = perform_banking_analysis(account_df, transaction_df)\n",
    "final_report = perform_report_writing(analysis_report)\n",
    "\n",
    "print(\"\\nBanking Data Analysis Report:\")\n",
    "print(final_report)\n"
   ]
  },
  {
   "cell_type": "code",
   "execution_count": null,
   "metadata": {},
   "outputs": [],
   "source": []
  }
 ],
 "metadata": {
  "kernelspec": {
   "display_name": "Python 3 (ipykernel)",
   "language": "python",
   "name": "python3"
  },
  "language_info": {
   "codemirror_mode": {
    "name": "ipython",
    "version": 3
   },
   "file_extension": ".py",
   "mimetype": "text/x-python",
   "name": "python",
   "nbconvert_exporter": "python",
   "pygments_lexer": "ipython3",
   "version": "3.11.7"
  }
 },
 "nbformat": 4,
 "nbformat_minor": 4
}
