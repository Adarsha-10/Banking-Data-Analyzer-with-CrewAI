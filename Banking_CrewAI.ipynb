{
 "cells": [
  {
   "cell_type": "code",
   "execution_count": 1,
   "id": "94817f83-39fa-48ae-9f62-2e3e469c240e",
   "metadata": {},
   "outputs": [],
   "source": [
    "import pandas as pd"
   ]
  },
  {
   "cell_type": "code",
   "execution_count": 6,
   "id": "353dbc10-aa03-4367-b0e5-a3c0c28004d7",
   "metadata": {},
   "outputs": [],
   "source": [
    "# Function to generate banking data and save it\n",
    "def generate_banking_data():\n",
    "    # Sample account-level data\n",
    "    account_data = {\n",
    "        'customer_name': ['Alice', 'Bob', 'Charlie', 'David'],\n",
    "        'customer_id': [1, 2, 3, 4],\n",
    "        'pr_number': ['PR001', 'PR002', 'PR003', 'PR004'],\n",
    "        'income': [50000, 60000, 70000, 80000],\n",
    "        'age': [30, 40, 35, 50]\n",
    "    }\n",
    "\n",
    "# Sample transaction-level data\n",
    "    transaction_data = {\n",
    "        'ucic_id': [101, 102, 103, 104, 105, 106],\n",
    "        'customer_id': [1, 1, 2, 3, 4, 4],\n",
    "        'category': ['electronics', 'investments', 'investments', 'groceries', 'investments', 'electronics'],\n",
    "        'transaction_amount': [200, 1500, 2000, 300, 2500, 400],\n",
    "        'credit_debit': ['debit', 'credit', 'credit', 'debit', 'credit', 'debit']\n",
    "    }\n",
    "# Create DataFrames\n",
    "    account_df = pd.DataFrame(account_data)\n",
    "    transaction_df = pd.DataFrame(transaction_data)\n",
    "\n",
    "    # Save data to CSV for later use\n",
    "    account_df.to_csv('account_data.csv', index=False)\n",
    "    transaction_df.to_csv('transaction_data.csv', index=False)\n",
    "\n",
    "    return account_df, transaction_df"
   ]
  },
  {
   "cell_type": "code",
   "execution_count": 7,
   "id": "98ba7dd0-ec65-4e8c-8141-c9c9ed61d008",
   "metadata": {},
   "outputs": [],
   "source": [
    "# Generate and save the data\n",
    "account_df, transaction_df = generate_banking_data()"
   ]
  },
  {
   "cell_type": "code",
   "execution_count": 8,
   "id": "21ca6527-4bdb-468b-8f2f-9b0ee2add2ec",
   "metadata": {},
   "outputs": [],
   "source": [
    "# Load saved data\n",
    "account_df = pd.read_csv('account_data.csv')\n",
    "transaction_df = pd.read_csv('transaction_data.csv')"
   ]
  },
  {
   "cell_type": "code",
   "execution_count": 9,
   "id": "7e03e3d2-dfe1-4393-97f9-f7d9961595c0",
   "metadata": {},
   "outputs": [
    {
     "data": {
      "text/html": [
       "<div>\n",
       "<style scoped>\n",
       "    .dataframe tbody tr th:only-of-type {\n",
       "        vertical-align: middle;\n",
       "    }\n",
       "\n",
       "    .dataframe tbody tr th {\n",
       "        vertical-align: top;\n",
       "    }\n",
       "\n",
       "    .dataframe thead th {\n",
       "        text-align: right;\n",
       "    }\n",
       "</style>\n",
       "<table border=\"1\" class=\"dataframe\">\n",
       "  <thead>\n",
       "    <tr style=\"text-align: right;\">\n",
       "      <th></th>\n",
       "      <th>ucic_id</th>\n",
       "      <th>customer_id</th>\n",
       "      <th>category</th>\n",
       "      <th>transaction_amount</th>\n",
       "      <th>credit_debit</th>\n",
       "    </tr>\n",
       "  </thead>\n",
       "  <tbody>\n",
       "    <tr>\n",
       "      <th>0</th>\n",
       "      <td>101</td>\n",
       "      <td>1</td>\n",
       "      <td>electronics</td>\n",
       "      <td>200</td>\n",
       "      <td>debit</td>\n",
       "    </tr>\n",
       "    <tr>\n",
       "      <th>1</th>\n",
       "      <td>102</td>\n",
       "      <td>1</td>\n",
       "      <td>investments</td>\n",
       "      <td>1500</td>\n",
       "      <td>credit</td>\n",
       "    </tr>\n",
       "    <tr>\n",
       "      <th>2</th>\n",
       "      <td>103</td>\n",
       "      <td>2</td>\n",
       "      <td>investments</td>\n",
       "      <td>2000</td>\n",
       "      <td>credit</td>\n",
       "    </tr>\n",
       "    <tr>\n",
       "      <th>3</th>\n",
       "      <td>104</td>\n",
       "      <td>3</td>\n",
       "      <td>groceries</td>\n",
       "      <td>300</td>\n",
       "      <td>debit</td>\n",
       "    </tr>\n",
       "    <tr>\n",
       "      <th>4</th>\n",
       "      <td>105</td>\n",
       "      <td>4</td>\n",
       "      <td>investments</td>\n",
       "      <td>2500</td>\n",
       "      <td>credit</td>\n",
       "    </tr>\n",
       "  </tbody>\n",
       "</table>\n",
       "</div>"
      ],
      "text/plain": [
       "   ucic_id  customer_id     category  transaction_amount credit_debit\n",
       "0      101            1  electronics                 200        debit\n",
       "1      102            1  investments                1500       credit\n",
       "2      103            2  investments                2000       credit\n",
       "3      104            3    groceries                 300        debit\n",
       "4      105            4  investments                2500       credit"
      ]
     },
     "execution_count": 9,
     "metadata": {},
     "output_type": "execute_result"
    }
   ],
   "source": [
    "account_df.head()\n",
    "transaction_df.head()"
   ]
  },
  {
   "cell_type": "code",
   "execution_count": 33,
   "id": "b1382c75-ea7d-46a0-be92-d3c92cefe71b",
   "metadata": {},
   "outputs": [],
   "source": [
    "from crewai import Agent,Task\n"
   ]
  },
  {
   "cell_type": "code",
   "execution_count": 12,
   "id": "8cc95c6e-b77b-49bb-b78b-9998ef80ffff",
   "metadata": {},
   "outputs": [],
   "source": [
    "from transformers import pipeline"
   ]
  },
  {
   "cell_type": "code",
   "execution_count": 14,
   "id": "a0e2cbba-a7d6-4f77-8087-7d2da1ce13e5",
   "metadata": {},
   "outputs": [],
   "source": [
    "# Load the Groq/Llama-3-Groq-8B-Tool-Use model from Hugging Face\n",
    "\n",
    "# llm_model = pipeline(model=\"Groq/Llama-3-Groq-8B-Tool-Use\")\n"
   ]
  },
  {
   "cell_type": "code",
   "execution_count": 17,
   "id": "b7a43ead-a65e-4967-8efd-bf98d712bb6d",
   "metadata": {},
   "outputs": [
    {
     "data": {
      "application/vnd.jupyter.widget-view+json": {
       "model_id": "42a2b835db3342948c7e1682609e38bf",
       "version_major": 2,
       "version_minor": 0
      },
      "text/plain": [
       "model.safetensors:  19%|#9        | 105M/548M [00:00<?, ?B/s]"
      ]
     },
     "metadata": {},
     "output_type": "display_data"
    },
    {
     "data": {
      "application/vnd.jupyter.widget-view+json": {
       "model_id": "c0517fb91568414d8b6c0ded128a3a3e",
       "version_major": 2,
       "version_minor": 0
      },
      "text/plain": [
       "generation_config.json:   0%|          | 0.00/124 [00:00<?, ?B/s]"
      ]
     },
     "metadata": {},
     "output_type": "display_data"
    },
    {
     "data": {
      "application/vnd.jupyter.widget-view+json": {
       "model_id": "49d011db7228429cb41e1f8b0e26be05",
       "version_major": 2,
       "version_minor": 0
      },
      "text/plain": [
       "tokenizer_config.json:   0%|          | 0.00/26.0 [00:00<?, ?B/s]"
      ]
     },
     "metadata": {},
     "output_type": "display_data"
    },
    {
     "data": {
      "application/vnd.jupyter.widget-view+json": {
       "model_id": "bc5256ef409249f59deefae7faeb9615",
       "version_major": 2,
       "version_minor": 0
      },
      "text/plain": [
       "vocab.json:   0%|          | 0.00/1.04M [00:00<?, ?B/s]"
      ]
     },
     "metadata": {},
     "output_type": "display_data"
    },
    {
     "data": {
      "application/vnd.jupyter.widget-view+json": {
       "model_id": "e0b51f9530b94ab3810999baca1486aa",
       "version_major": 2,
       "version_minor": 0
      },
      "text/plain": [
       "merges.txt:   0%|          | 0.00/456k [00:00<?, ?B/s]"
      ]
     },
     "metadata": {},
     "output_type": "display_data"
    },
    {
     "data": {
      "application/vnd.jupyter.widget-view+json": {
       "model_id": "954297dcd8b04c7e9b00875a6305d567",
       "version_major": 2,
       "version_minor": 0
      },
      "text/plain": [
       "tokenizer.json:   0%|          | 0.00/1.36M [00:00<?, ?B/s]"
      ]
     },
     "metadata": {},
     "output_type": "display_data"
    },
    {
     "name": "stderr",
     "output_type": "stream",
     "text": [
      "C:\\Users\\sudes\\AppData\\Roaming\\Python\\Python311\\site-packages\\transformers\\tokenization_utils_base.py:1601: FutureWarning: `clean_up_tokenization_spaces` was not set. It will be set to `True` by default. This behavior will be depracted in transformers v4.45, and will be then set to `False` by default. For more details check this issue: https://github.com/huggingface/transformers/issues/31884\n",
      "  warnings.warn(\n"
     ]
    }
   ],
   "source": [
    "llm_model = pipeline('text-generation',model=\"openai-community/gpt2\")\n"
   ]
  },
  {
   "cell_type": "code",
   "execution_count": 25,
   "id": "c494751c-1932-4152-9854-fae6a4942e2c",
   "metadata": {},
   "outputs": [],
   "source": [
    "# Task definitions for the agent\n",
    "def filter_investments(transaction_df):\n",
    "    \"\"\"Task: Filter and return investment transactions.\"\"\"\n",
    "    investment_transactions = transaction_df[transaction_df['category'] == 'investments']\n",
    "    return investment_transactions\n",
    "def summarize_investments(investment_transactions):\n",
    "    \"\"\"Task: Summarize investment transactions by customer.\"\"\"\n",
    "    investment_summary = investment_transactions.groupby('customer_id').sum(numeric_only=True)\n",
    "    return investment_summary\n",
    "def compare_with_peers(investment_summary, account_df):\n",
    "    \"\"\"Task: Merge investment data with account-level data for comparison.\"\"\"\n",
    "    comparison = investment_summary.merge(account_df, on='customer_id', how='left')\n",
    "    return comparison"
   ]
  },
  {
   "cell_type": "code",
   "execution_count": 39,
   "id": "5175db3e-cb0d-41a5-b537-d7bd502e5855",
   "metadata": {},
   "outputs": [],
   "source": [
    "# Initialize the first agent: Banking Data Analyst using Hugging Face model\n",
    "banking_analyst = Agent(\n",
    "    role='Banking Data Analyst',\n",
    "    goal='Analyze customer transactions and identify key investment patterns',\n",
    "    verbose=True,\n",
    "    memory=True,\n",
    "    backstory=\"An expert in banking and customer data, focused on extracting valuable insights from transactions.\",\n",
    "    tools=None,  # No tools required, logic is defined within the agent\n",
    "    allow_delegation=False,\n",
    "    llm=llm_model\n",
    ")\n",
    "\n",
    "# Initialize the second agent: Peer Comparison Analyst using Hugging Face model\n",
    "report_writer = Agent(\n",
    "    role='Report Writer',\n",
    "    goal='Compare customer investments with peers to evaluate financial strategies',\n",
    "    verbose=True,\n",
    "    memory=True,\n",
    "    backstory=(\n",
    "        \"A financial comparison expert specializing in evaluating customers' \"\n",
    "        \"investment strategies by comparing them with their peers.\"\n",
    "    ),\n",
    "    tools=None,  # No tools required, logic is defined within the agent\n",
    "    allow_delegation=False,\n",
    "    llm=llm_model  # Use Hugging Face Ollama model as the LLM\n",
    ")"
   ]
  },
  {
   "cell_type": "code",
   "execution_count": 27,
   "id": "f452ecf8-be1c-44db-a90f-de5e863db24d",
   "metadata": {},
   "outputs": [],
   "source": [
    "# Main function to perform the end-to-end analysis\n",
    "def perform_analysis(account_df, transaction_df):\n",
    "    # Step 1: Filter investments\n",
    "    investment_transactions = filter_investments(transaction_df)\n",
    "\n",
    "    # Step 2: Summarize investment data\n",
    "    investment_summary = summarize_investments(investment_transactions)\n",
    "\n",
    "    # Step 3: Compare investment data with peers\n",
    "    investment_comparison = compare_with_peers(investment_summary, account_df)\n",
    "\n",
    "    return investment_comparison"
   ]
  },
  {
   "cell_type": "code",
   "execution_count": 28,
   "id": "f26deacd-9586-482a-b668-5b1757033ba9",
   "metadata": {},
   "outputs": [],
   "source": [
    "# Example usage\n",
    "account_df, transaction_df = generate_banking_data()\n",
    "investment_comparison = perform_analysis(account_df, transaction_df)"
   ]
  },
  {
   "cell_type": "code",
   "execution_count": 29,
   "id": "b79fbf15-3565-4cdc-9af9-73a8df341178",
   "metadata": {},
   "outputs": [
    {
     "name": "stdout",
     "output_type": "stream",
     "text": [
      "\n",
      "Investment Comparison with Peers:\n",
      "   customer_id  ucic_id  transaction_amount customer_name pr_number  income  \\\n",
      "0            1      102                1500         Alice     PR001   50000   \n",
      "1            2      103                2000           Bob     PR002   60000   \n",
      "2            4      105                2500         David     PR004   80000   \n",
      "\n",
      "   age  \n",
      "0   30  \n",
      "1   40  \n",
      "2   50  \n"
     ]
    }
   ],
   "source": [
    "print(\"\\nInvestment Comparison with Peers:\")\n",
    "print(investment_comparison)"
   ]
  },
  {
   "cell_type": "code",
   "execution_count": null,
   "id": "7a112893-c381-4c43-9088-7e37ec069c06",
   "metadata": {},
   "outputs": [],
   "source": []
  },
  {
   "cell_type": "code",
   "execution_count": 36,
   "id": "93098349-02d3-4120-a94c-be19c5e46bc7",
   "metadata": {},
   "outputs": [],
   "source": [
    "# Task for banking data analysis\n",
    "def perform_banking_analysis(account_df, transaction_df):\n",
    "    analysis_task = Task(\n",
    "        description=\"Analyze customer transactions and identify key investment patterns.\",\n",
    "        expected_output=\"A detailed report summarizing key insights from banking data, focusing on investment transactions.\",\n",
    "        tools=None,  # No tools required\n",
    "        agent=banking_analyst\n",
    "    )\n",
    "# Sample analysis logic to filter and summarize investment transactions\n",
    "    investment_transactions = transaction_df[transaction_df['category'] == 'investments']\n",
    "    investment_summary = investment_transactions.groupby('customer_id').sum(numeric_only=True)\n",
    "\n",
    "    # Generate a summary using the LLM\n",
    "    analysis_report = analysis_task.agent.llm(f\"Analyze the following investment transactions and provide insights:\\n{investment_summary}\")\n",
    "    \n",
    "    return analysis_report"
   ]
  },
  {
   "cell_type": "code",
   "execution_count": 40,
   "id": "f3be2e63-2cba-4261-96c2-4faf155793c5",
   "metadata": {},
   "outputs": [],
   "source": [
    "# Task for writing a report based on analysis\n",
    "def perform_report_writing(analysis_report):\n",
    "    write_task = Task(\n",
    "        description=\"Summarize the analysis into a comprehensive banking data report.\",\n",
    "        expected_output=\"A detailed report summarizing the key insights from the analysis of customer investment data.\",\n",
    "        tools=None,  # No tools required\n",
    "        agent=report_writer,\n",
    "        async_execution=False,\n",
    "        output_file='banking_data_report.md'  # Save the output to a markdown file\n",
    "    )\n",
    "    # Generate the report using the LLM\n",
    "    report_content = write_task.agent.llm(f\"Write a detailed report based on the following analysis:\\n{analysis_report}\")\n",
    "\n",
    "    # Save the report to a file\n",
    "    with open(write_task.output_file, 'w') as file:\n",
    "        file.write(report_content)\n",
    "    \n",
    "    return report_content"
   ]
  },
  {
   "cell_type": "code",
   "execution_count": 41,
   "id": "0793a7c9-8a72-41b2-9a0c-a2d65fda705d",
   "metadata": {},
   "outputs": [
    {
     "ename": "TypeError",
     "evalue": "'LLM' object is not callable",
     "output_type": "error",
     "traceback": [
      "\u001b[1;31m---------------------------------------------------------------------------\u001b[0m",
      "\u001b[1;31mTypeError\u001b[0m                                 Traceback (most recent call last)",
      "Cell \u001b[1;32mIn[41], line 3\u001b[0m\n\u001b[0;32m      1\u001b[0m \u001b[38;5;66;03m# Example usage\u001b[39;00m\n\u001b[0;32m      2\u001b[0m account_df, transaction_df \u001b[38;5;241m=\u001b[39m generate_banking_data()\n\u001b[1;32m----> 3\u001b[0m analysis_report \u001b[38;5;241m=\u001b[39m perform_banking_analysis(account_df, transaction_df)\n\u001b[0;32m      4\u001b[0m final_report \u001b[38;5;241m=\u001b[39m perform_report_writing(analysis_report)\n",
      "Cell \u001b[1;32mIn[36], line 14\u001b[0m, in \u001b[0;36mperform_banking_analysis\u001b[1;34m(account_df, transaction_df)\u001b[0m\n\u001b[0;32m     11\u001b[0m investment_summary \u001b[38;5;241m=\u001b[39m investment_transactions\u001b[38;5;241m.\u001b[39mgroupby(\u001b[38;5;124m'\u001b[39m\u001b[38;5;124mcustomer_id\u001b[39m\u001b[38;5;124m'\u001b[39m)\u001b[38;5;241m.\u001b[39msum(numeric_only\u001b[38;5;241m=\u001b[39m\u001b[38;5;28;01mTrue\u001b[39;00m)\n\u001b[0;32m     13\u001b[0m \u001b[38;5;66;03m# Generate a summary using the LLM\u001b[39;00m\n\u001b[1;32m---> 14\u001b[0m analysis_report \u001b[38;5;241m=\u001b[39m analysis_task\u001b[38;5;241m.\u001b[39magent\u001b[38;5;241m.\u001b[39mllm(\u001b[38;5;124mf\u001b[39m\u001b[38;5;124m\"\u001b[39m\u001b[38;5;124mAnalyze the following investment transactions and provide insights:\u001b[39m\u001b[38;5;130;01m\\n\u001b[39;00m\u001b[38;5;132;01m{\u001b[39;00minvestment_summary\u001b[38;5;132;01m}\u001b[39;00m\u001b[38;5;124m\"\u001b[39m)\n\u001b[0;32m     16\u001b[0m \u001b[38;5;28;01mreturn\u001b[39;00m analysis_report\n",
      "\u001b[1;31mTypeError\u001b[0m: 'LLM' object is not callable"
     ]
    }
   ],
   "source": [
    "# Example usage\n",
    "account_df, transaction_df = generate_banking_data()\n",
    "analysis_report = perform_banking_analysis(account_df, transaction_df)\n",
    "final_report = perform_report_writing(analysis_report)"
   ]
  },
  {
   "cell_type": "code",
   "execution_count": null,
   "id": "2f7f27e4-d89c-4cd4-b866-597f6af8c0a5",
   "metadata": {},
   "outputs": [],
   "source": []
  }
 ],
 "metadata": {
  "kernelspec": {
   "display_name": "Python 3 (ipykernel)",
   "language": "python",
   "name": "python3"
  },
  "language_info": {
   "codemirror_mode": {
    "name": "ipython",
    "version": 3
   },
   "file_extension": ".py",
   "mimetype": "text/x-python",
   "name": "python",
   "nbconvert_exporter": "python",
   "pygments_lexer": "ipython3",
   "version": "3.11.7"
  }
 },
 "nbformat": 4,
 "nbformat_minor": 5
}
